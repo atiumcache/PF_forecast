{
 "cells": [
  {
   "metadata": {},
   "cell_type": "markdown",
   "source": "We will generate synthetic data to test the particle filter on. ",
   "id": "46406613677c2998"
  },
  {
   "cell_type": "code",
   "id": "initial_id",
   "metadata": {
    "collapsed": true,
    "ExecuteTime": {
     "end_time": "2024-08-06T19:24:16.620153Z",
     "start_time": "2024-08-06T19:24:16.069517Z"
    }
   },
   "source": [
    "from src.particle_filter.parameters import ModelParameters\n",
    "from src.particle_filter.transition import (\n",
    "    Transition,\n",
    "    OUModel,\n",
    ")\n",
    "from jax.random import PRNGKey\n",
    "import jax.numpy as jnp\n",
    "\n",
    "\n",
    "def fun_beta(t):\n",
    "    if 100 > t > 50:\n",
    "        return 0.3\n",
    "    return 0.1\n",
    "\n",
    "\n",
    "days = 200\n",
    "beta = fun_beta\n",
    "pop = 100000\n",
    "infected = 0.005 * pop\n",
    "susceptible = pop - infected\n",
    "initial_state = jnp.array([susceptible, infected, 0, 0, 0])\n",
    "key = PRNGKey(0)"
   ],
   "outputs": [],
   "execution_count": 1
  },
  {
   "metadata": {
    "ExecuteTime": {
     "end_time": "2024-08-06T19:24:16.929433Z",
     "start_time": "2024-08-06T19:24:16.621688Z"
    }
   },
   "cell_type": "code",
   "source": [
    "model_params = ModelParameters()\n",
    "\n",
    "ou_model = OUModel(model_params)\n",
    "\n",
    "det_output = [initial_state.copy()]"
   ],
   "id": "12f1ba85523f733a",
   "outputs": [
    {
     "ename": "TypeError",
     "evalue": "ModelParameters.__init__() missing 1 required positional argument: 'config_file'",
     "output_type": "error",
     "traceback": [
      "\u001B[0;31m---------------------------------------------------------------------------\u001B[0m",
      "\u001B[0;31mTypeError\u001B[0m                                 Traceback (most recent call last)",
      "Cell \u001B[0;32mIn[2], line 1\u001B[0m\n\u001B[0;32m----> 1\u001B[0m model_params \u001B[38;5;241m=\u001B[39m \u001B[43mModelParameters\u001B[49m\u001B[43m(\u001B[49m\u001B[43m)\u001B[49m\n\u001B[1;32m      3\u001B[0m ou_model \u001B[38;5;241m=\u001B[39m OUModel(model_params)\n\u001B[1;32m      5\u001B[0m det_output \u001B[38;5;241m=\u001B[39m [initial_state\u001B[38;5;241m.\u001B[39mcopy()]\n",
      "\u001B[0;31mTypeError\u001B[0m: ModelParameters.__init__() missing 1 required positional argument: 'config_file'"
     ]
    }
   ],
   "execution_count": 2
  },
  {
   "metadata": {
    "ExecuteTime": {
     "end_time": "2024-08-06T19:24:17.631901Z",
     "start_time": "2024-08-06T19:24:17.605352Z"
    }
   },
   "cell_type": "code",
   "source": [
    "def det_update(state, time_step):\n",
    "    state[4] = 0\n",
    "    state += ou_model.det_component(state, 1, beta(time_step))\n",
    "    return state\n",
    "\n",
    "\n",
    "for i in range(1, days):\n",
    "    det_output.append(det_update(det_output[-1], i))"
   ],
   "id": "8c4babd6941870c8",
   "outputs": [
    {
     "ename": "NameError",
     "evalue": "name 'det_output' is not defined",
     "output_type": "error",
     "traceback": [
      "\u001B[0;31m---------------------------------------------------------------------------\u001B[0m",
      "\u001B[0;31mNameError\u001B[0m                                 Traceback (most recent call last)",
      "Cell \u001B[0;32mIn[3], line 7\u001B[0m\n\u001B[1;32m      4\u001B[0m     \u001B[38;5;28;01mreturn\u001B[39;00m state\n\u001B[1;32m      6\u001B[0m \u001B[38;5;28;01mfor\u001B[39;00m i \u001B[38;5;129;01min\u001B[39;00m \u001B[38;5;28mrange\u001B[39m(\u001B[38;5;241m1\u001B[39m, days):\n\u001B[0;32m----> 7\u001B[0m     \u001B[43mdet_output\u001B[49m\u001B[38;5;241m.\u001B[39mappend(det_update(det_output[\u001B[38;5;241m-\u001B[39m\u001B[38;5;241m1\u001B[39m], i))\n",
      "\u001B[0;31mNameError\u001B[0m: name 'det_output' is not defined"
     ]
    }
   ],
   "execution_count": 3
  },
  {
   "metadata": {
    "ExecuteTime": {
     "end_time": "2024-08-06T19:24:18.541311Z",
     "start_time": "2024-08-06T19:24:18.536526Z"
    }
   },
   "cell_type": "code",
   "source": [
    "import numpy as np\n",
    "import matplotlib.pyplot as plt\n",
    "\n",
    "\n",
    "def plot_output(output):\n",
    "    data = np.array(output)\n",
    "    labels = [\"S\", \"I\", \"R\", \"H\", \"new_H\"]\n",
    "    # Create a plot for each variable\n",
    "    plt.figure(figsize=(12, 6))\n",
    "\n",
    "    # for each day\n",
    "    for i in range(data.shape[1]):\n",
    "        # plot each compartment\n",
    "        plt.plot(range(data.shape[0]), data[:, i], label=labels[i])\n",
    "\n",
    "    plt.title(\"SIRH Dynamics w/ Time-Dependent Beta\")\n",
    "    plt.xlabel(\"Day\")\n",
    "    plt.ylabel(\"Value\")\n",
    "    plt.legend(title=\"Variables\")\n",
    "    plt.show()"
   ],
   "id": "e9937f84c11a0b46",
   "outputs": [],
   "execution_count": 4
  },
  {
   "metadata": {
    "ExecuteTime": {
     "end_time": "2024-08-06T19:24:24.260973Z",
     "start_time": "2024-08-06T19:24:24.241198Z"
    }
   },
   "cell_type": "code",
   "source": "plot_output(det_output)",
   "id": "27171efea936ff62",
   "outputs": [
    {
     "ename": "NameError",
     "evalue": "name 'det_output' is not defined",
     "output_type": "error",
     "traceback": [
      "\u001B[0;31m---------------------------------------------------------------------------\u001B[0m",
      "\u001B[0;31mNameError\u001B[0m                                 Traceback (most recent call last)",
      "Cell \u001B[0;32mIn[5], line 1\u001B[0m\n\u001B[0;32m----> 1\u001B[0m plot_output(\u001B[43mdet_output\u001B[49m)\n",
      "\u001B[0;31mNameError\u001B[0m: name 'det_output' is not defined"
     ]
    }
   ],
   "execution_count": 5
  },
  {
   "metadata": {},
   "cell_type": "markdown",
   "source": "Testing the particle filter on this synthetic data.",
   "id": "3675bf0a202dc774"
  },
  {
   "metadata": {
    "ExecuteTime": {
     "end_time": "2024-08-06T19:24:28.866264Z",
     "start_time": "2024-08-06T19:24:28.842083Z"
    }
   },
   "cell_type": "code",
   "source": [
    "# obs_data is an array of the new hospitalizations from synthetic data\n",
    "data = np.array(det_output)\n",
    "obs_data = data[:, 4]\n",
    "print(\"new hospitalizations:\", obs_data)"
   ],
   "id": "56cb67177bae73c",
   "outputs": [
    {
     "ename": "NameError",
     "evalue": "name 'det_output' is not defined",
     "output_type": "error",
     "traceback": [
      "\u001B[0;31m---------------------------------------------------------------------------\u001B[0m",
      "\u001B[0;31mNameError\u001B[0m                                 Traceback (most recent call last)",
      "Cell \u001B[0;32mIn[6], line 2\u001B[0m\n\u001B[1;32m      1\u001B[0m \u001B[38;5;66;03m# obs_data is an array of the new hospitalizations from synthetic data\u001B[39;00m\n\u001B[0;32m----> 2\u001B[0m data \u001B[38;5;241m=\u001B[39m np\u001B[38;5;241m.\u001B[39marray(\u001B[43mdet_output\u001B[49m)\n\u001B[1;32m      3\u001B[0m obs_data \u001B[38;5;241m=\u001B[39m data[:, \u001B[38;5;241m4\u001B[39m]\n\u001B[1;32m      4\u001B[0m \u001B[38;5;28mprint\u001B[39m(\u001B[38;5;124m\"\u001B[39m\u001B[38;5;124mnew hospitalizations:\u001B[39m\u001B[38;5;124m\"\u001B[39m, obs_data)\n",
      "\u001B[0;31mNameError\u001B[0m: name 'det_output' is not defined"
     ]
    }
   ],
   "execution_count": 6
  },
  {
   "metadata": {
    "ExecuteTime": {
     "end_time": "2024-08-06T19:26:22.750767Z",
     "start_time": "2024-08-06T19:26:22.743971Z"
    }
   },
   "cell_type": "code",
   "source": [
    "from src.particle_filter.initialize import initialize_particle_filter\n",
    "\n",
    "pf_algo = initialize_particle_filter(\n",
    "    state_population=7000000,\n",
    "    location_code=\"04\",\n",
    "    target_date=\"2047-10-28\",\n",
    "    runtime=days,\n",
    "    likelihood_r=10,\n",
    "    likelihood_p=0.3,\n",
    ")"
   ],
   "id": "62d74f9ed37b2752",
   "outputs": [],
   "execution_count": 9
  },
  {
   "metadata": {
    "ExecuteTime": {
     "end_time": "2024-08-06T19:26:23.304403Z",
     "start_time": "2024-08-06T19:26:23.278427Z"
    }
   },
   "cell_type": "code",
   "source": "betas, _, states, all_resamples, all_weights = pf_algo.run(observation_data=obs_data)",
   "id": "4e56d1d4918fecc3",
   "outputs": [
    {
     "ename": "NameError",
     "evalue": "name 'obs_data' is not defined",
     "output_type": "error",
     "traceback": [
      "\u001B[0;31m---------------------------------------------------------------------------\u001B[0m",
      "\u001B[0;31mNameError\u001B[0m                                 Traceback (most recent call last)",
      "Cell \u001B[0;32mIn[10], line 1\u001B[0m\n\u001B[0;32m----> 1\u001B[0m betas, _, states, all_resamples, all_weights \u001B[38;5;241m=\u001B[39m pf_algo\u001B[38;5;241m.\u001B[39mrun(observation_data\u001B[38;5;241m=\u001B[39m\u001B[43mobs_data\u001B[49m)\n",
      "\u001B[0;31mNameError\u001B[0m: name 'obs_data' is not defined"
     ]
    }
   ],
   "execution_count": 10
  },
  {
   "metadata": {},
   "cell_type": "code",
   "outputs": [],
   "execution_count": null,
   "source": "",
   "id": "927406ab2fdc2a69"
  }
 ],
 "metadata": {
  "kernelspec": {
   "display_name": "Python 3",
   "language": "python",
   "name": "python3"
  },
  "language_info": {
   "codemirror_mode": {
    "name": "ipython",
    "version": 2
   },
   "file_extension": ".py",
   "mimetype": "text/x-python",
   "name": "python",
   "nbconvert_exporter": "python",
   "pygments_lexer": "ipython2",
   "version": "2.7.6"
  }
 },
 "nbformat": 4,
 "nbformat_minor": 5
}
