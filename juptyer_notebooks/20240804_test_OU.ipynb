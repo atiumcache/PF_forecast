{
 "cells": [
  {
   "cell_type": "code",
   "id": "initial_id",
   "metadata": {
    "collapsed": true,
    "ExecuteTime": {
     "end_time": "2024-08-04T16:51:23.737422Z",
     "start_time": "2024-08-04T16:51:23.728513Z"
    }
   },
   "source": [
    "import toml\n",
    "import os\n",
    "import paths\n",
    "\n",
    "def load_config():\n",
    "    config_path = os.path.join(paths.PF_DIR, \"config.toml\")\n",
    "    return toml.load(config_path)"
   ],
   "outputs": [],
   "execution_count": 1
  },
  {
   "metadata": {
    "ExecuteTime": {
     "end_time": "2024-08-04T16:51:23.747837Z",
     "start_time": "2024-08-04T16:51:23.739440Z"
    }
   },
   "cell_type": "code",
   "source": "config = load_config()",
   "id": "bd5814a05327e37a",
   "outputs": [],
   "execution_count": 2
  },
  {
   "metadata": {
    "ExecuteTime": {
     "end_time": "2024-08-04T16:51:25.120933Z",
     "start_time": "2024-08-04T16:51:23.749427Z"
    }
   },
   "cell_type": "code",
   "source": [
    "from src.particle_filter.parameters import ModelParameters\n",
    "from src.particle_filter.global_settings import GlobalSettings\n",
    "\n",
    "global_settings = GlobalSettings(\n",
    "        num_particles=config[\"filter_params\"][\"num_particles\"],\n",
    "        population=100000,\n",
    "        location_code='04',\n",
    "        final_date='2023-10-28',\n",
    "        runtime=365,\n",
    "        dt=config[\"filter_params\"][\"dt\"],\n",
    "        beta_prior=tuple(config[\"filter_params\"][\"beta_prior\"]),\n",
    "        ll_var_prior=tuple(config[\"filter_params\"][\"ll_var_prior\"]),\n",
    "        seed_size=config[\"filter_params\"][\"seed_size\"],\n",
    "    )\n",
    "\n",
    "    # Initializing ModelParameters automatically grabs\n",
    "    # params from the config.toml file.\n",
    "config_path = os.path.join(paths.PF_DIR, \"config.toml\")\n",
    "model_parameters = ModelParameters(config_path)"
   ],
   "id": "809f9231f89a0ea7",
   "outputs": [],
   "execution_count": 3
  },
  {
   "metadata": {
    "ExecuteTime": {
     "end_time": "2024-08-04T16:51:26.337491Z",
     "start_time": "2024-08-04T16:51:25.122751Z"
    }
   },
   "cell_type": "code",
   "source": [
    "from src.particle_filter.particle_cloud import ParticleCloud\n",
    "from src.particle_filter.transition import OUModel\n",
    "\n",
    "particles = ParticleCloud(settings = global_settings,\n",
    "                          transition = OUModel(config_path))"
   ],
   "id": "7972a3f4ed8b30f5",
   "outputs": [],
   "execution_count": 4
  },
  {
   "metadata": {
    "ExecuteTime": {
     "end_time": "2024-08-04T16:52:32.775442Z",
     "start_time": "2024-08-04T16:52:32.730438Z"
    }
   },
   "cell_type": "code",
   "source": "particles.states[1, :, 0]",
   "id": "8b82e28f115a8cdb",
   "outputs": [
    {
     "data": {
      "text/plain": [
       "Array([9.7338148e+04, 2.6618491e+03, 0.0000000e+00, 0.0000000e+00,\n",
       "       0.0000000e+00, 1.3580921e-01, 6.5161519e-02], dtype=float32)"
      ]
     },
     "execution_count": 8,
     "metadata": {},
     "output_type": "execute_result"
    }
   ],
   "execution_count": 8
  },
  {
   "metadata": {},
   "cell_type": "markdown",
   "source": "Nice. Initial state is as expected.",
   "id": "f958fd596b6b269"
  },
  {
   "metadata": {},
   "cell_type": "code",
   "outputs": [],
   "execution_count": null,
   "source": "",
   "id": "6920030e76a388d9"
  }
 ],
 "metadata": {
  "kernelspec": {
   "display_name": "Python 3",
   "language": "python",
   "name": "python3"
  },
  "language_info": {
   "codemirror_mode": {
    "name": "ipython",
    "version": 2
   },
   "file_extension": ".py",
   "mimetype": "text/x-python",
   "name": "python",
   "nbconvert_exporter": "python",
   "pygments_lexer": "ipython2",
   "version": "2.7.6"
  }
 },
 "nbformat": 4,
 "nbformat_minor": 5
}
