{
 "cells": [
  {
   "cell_type": "code",
   "id": "initial_id",
   "metadata": {
    "collapsed": true,
    "ExecuteTime": {
     "end_time": "2024-08-04T18:01:25.453456Z",
     "start_time": "2024-08-04T18:01:25.445801Z"
    }
   },
   "source": [
    "import toml\n",
    "import os\n",
    "import paths\n",
    "\n",
    "def load_config():\n",
    "    config_path = os.path.join(paths.PF_DIR, \"config.toml\")\n",
    "    return toml.load(config_path)"
   ],
   "outputs": [],
   "execution_count": 1
  },
  {
   "metadata": {
    "ExecuteTime": {
     "end_time": "2024-08-04T18:01:25.473202Z",
     "start_time": "2024-08-04T18:01:25.467483Z"
    }
   },
   "cell_type": "code",
   "source": "config = load_config()",
   "id": "bd5814a05327e37a",
   "outputs": [],
   "execution_count": 2
  },
  {
   "metadata": {
    "ExecuteTime": {
     "end_time": "2024-08-04T18:01:26.841667Z",
     "start_time": "2024-08-04T18:01:25.539517Z"
    }
   },
   "cell_type": "code",
   "source": [
    "from src.particle_filter.parameters import ModelParameters\n",
    "from src.particle_filter.global_settings import GlobalSettings\n",
    "\n",
    "global_settings = GlobalSettings(\n",
    "        num_particles=config[\"filter_params\"][\"num_particles\"],\n",
    "        population=100000,\n",
    "        location_code='04',\n",
    "        final_date='2023-10-28',\n",
    "        runtime=365,\n",
    "        dt=config[\"filter_params\"][\"dt\"],\n",
    "        beta_prior=tuple(config[\"filter_params\"][\"beta_prior\"]),\n",
    "        seed_size=config[\"filter_params\"][\"seed_size\"],\n",
    "        ll_variance=50\n",
    "    )\n",
    "\n",
    "    # Initializing ModelParameters automatically grabs\n",
    "    # params from the config.toml file.\n",
    "config_path = os.path.join(paths.PF_DIR, \"config.toml\")\n",
    "model_parameters = ModelParameters(config_path)"
   ],
   "id": "809f9231f89a0ea7",
   "outputs": [],
   "execution_count": 3
  },
  {
   "metadata": {
    "ExecuteTime": {
     "end_time": "2024-08-04T18:01:28.152205Z",
     "start_time": "2024-08-04T18:01:26.850864Z"
    }
   },
   "cell_type": "code",
   "source": [
    "from src.particle_filter.particle_cloud import ParticleCloud\n",
    "from src.particle_filter.transition import OUModel\n",
    "\n",
    "particles = ParticleCloud(settings = global_settings,\n",
    "                          transition = OUModel(config_path))"
   ],
   "id": "7972a3f4ed8b30f5",
   "outputs": [],
   "execution_count": 4
  },
  {
   "metadata": {
    "ExecuteTime": {
     "end_time": "2024-08-04T18:01:28.189447Z",
     "start_time": "2024-08-04T18:01:28.153458Z"
    }
   },
   "cell_type": "code",
   "source": "particles.states[1, :, 0]",
   "id": "8b82e28f115a8cdb",
   "outputs": [
    {
     "data": {
      "text/plain": [
       "Array([9.7346734e+04, 2.6532617e+03, 0.0000000e+00, 0.0000000e+00,\n",
       "       0.0000000e+00, 1.9430254e-01], dtype=float32)"
      ]
     },
     "execution_count": 5,
     "metadata": {},
     "output_type": "execute_result"
    }
   ],
   "execution_count": 5
  },
  {
   "metadata": {},
   "cell_type": "markdown",
   "source": "Nice. Initial state is as expected. [S, I, R, H, new_H, Beta]",
   "id": "f958fd596b6b269"
  },
  {
   "metadata": {
    "ExecuteTime": {
     "end_time": "2024-08-04T18:01:29.195038Z",
     "start_time": "2024-08-04T18:01:28.191205Z"
    }
   },
   "cell_type": "code",
   "source": [
    "for time in range(particles.settings.runtime - 1):\n",
    "    particles.update_all_particles(time)"
   ],
   "id": "6920030e76a388d9",
   "outputs": [
    {
     "ename": "TypeError",
     "evalue": "unsupported operand type(s) for *: 'NoneType' and 'jaxlib.xla_extension.ArrayImpl'",
     "output_type": "error",
     "traceback": [
      "\u001B[0;31m---------------------------------------------------------------------------\u001B[0m",
      "\u001B[0;31mTypeError\u001B[0m                                 Traceback (most recent call last)",
      "Cell \u001B[0;32mIn[6], line 2\u001B[0m\n\u001B[1;32m      1\u001B[0m \u001B[38;5;28;01mfor\u001B[39;00m time \u001B[38;5;129;01min\u001B[39;00m \u001B[38;5;28mrange\u001B[39m(particles\u001B[38;5;241m.\u001B[39msettings\u001B[38;5;241m.\u001B[39mruntime \u001B[38;5;241m-\u001B[39m \u001B[38;5;241m1\u001B[39m):\n\u001B[0;32m----> 2\u001B[0m     \u001B[43mparticles\u001B[49m\u001B[38;5;241;43m.\u001B[39;49m\u001B[43mupdate_all_particles\u001B[49m\u001B[43m(\u001B[49m\u001B[43mtime\u001B[49m\u001B[43m)\u001B[49m\n",
      "File \u001B[0;32m~/PycharmProjects/PF_forecast/src/particle_filter/particle_cloud.py:134\u001B[0m, in \u001B[0;36mParticleCloud.update_all_particles\u001B[0;34m(self, t)\u001B[0m\n\u001B[1;32m    122\u001B[0m \u001B[38;5;250m\u001B[39m\u001B[38;5;124;03m\"\"\"Propagate all particle state vectors forward one time step.\u001B[39;00m\n\u001B[1;32m    123\u001B[0m \n\u001B[1;32m    124\u001B[0m \u001B[38;5;124;03mArgs:\u001B[39;00m\n\u001B[0;32m   (...)\u001B[0m\n\u001B[1;32m    128\u001B[0m \u001B[38;5;124;03m    None. We update the instance states directly.\u001B[39;00m\n\u001B[1;32m    129\u001B[0m \u001B[38;5;124;03m\"\"\"\u001B[39;00m\n\u001B[1;32m    130\u001B[0m \u001B[38;5;66;03m# Map each particle's state and beta to the update_single_particle function.\u001B[39;00m\n\u001B[1;32m    131\u001B[0m \u001B[38;5;66;03m# We iterate over the 0th axes of states and betas.\u001B[39;00m\n\u001B[1;32m    132\u001B[0m \u001B[38;5;66;03m# Thus, we pass our function the state vector for each particle at\u001B[39;00m\n\u001B[1;32m    133\u001B[0m \u001B[38;5;66;03m# time t. And we pass the beta value for each particle at time t.\u001B[39;00m\n\u001B[0;32m--> 134\u001B[0m new_states \u001B[38;5;241m=\u001B[39m \u001B[43mjax\u001B[49m\u001B[38;5;241;43m.\u001B[39;49m\u001B[43mvmap\u001B[49m\u001B[43m(\u001B[49m\u001B[38;5;28;43mself\u001B[39;49m\u001B[38;5;241;43m.\u001B[39;49m\u001B[43m_update_single_particle\u001B[49m\u001B[43m,\u001B[49m\u001B[43m \u001B[49m\u001B[43min_axes\u001B[49m\u001B[38;5;241;43m=\u001B[39;49m\u001B[43m(\u001B[49m\u001B[38;5;241;43m0\u001B[39;49m\u001B[43m,\u001B[49m\u001B[43m \u001B[49m\u001B[38;5;28;43;01mNone\u001B[39;49;00m\u001B[43m)\u001B[49m\u001B[43m)\u001B[49m\u001B[43m(\u001B[49m\n\u001B[1;32m    135\u001B[0m \u001B[43m    \u001B[49m\u001B[38;5;28;43mself\u001B[39;49m\u001B[38;5;241;43m.\u001B[39;49m\u001B[43mstates\u001B[49m\u001B[43m[\u001B[49m\u001B[43m:\u001B[49m\u001B[43m,\u001B[49m\u001B[43m \u001B[49m\u001B[43m:\u001B[49m\u001B[43m,\u001B[49m\u001B[43m \u001B[49m\u001B[43mt\u001B[49m\u001B[43m \u001B[49m\u001B[38;5;241;43m-\u001B[39;49m\u001B[43m \u001B[49m\u001B[38;5;241;43m1\u001B[39;49m\u001B[43m]\u001B[49m\u001B[43m,\u001B[49m\u001B[43m \u001B[49m\u001B[43mt\u001B[49m\n\u001B[1;32m    136\u001B[0m \u001B[43m\u001B[49m\u001B[43m)\u001B[49m\n\u001B[1;32m    138\u001B[0m \u001B[38;5;28mself\u001B[39m\u001B[38;5;241m.\u001B[39mstates \u001B[38;5;241m=\u001B[39m \u001B[38;5;28mself\u001B[39m\u001B[38;5;241m.\u001B[39mstates\u001B[38;5;241m.\u001B[39mat[:, :, t]\u001B[38;5;241m.\u001B[39mset(new_states)\n\u001B[1;32m    139\u001B[0m \u001B[38;5;28mself\u001B[39m\u001B[38;5;241m.\u001B[39mbetas \u001B[38;5;241m=\u001B[39m \u001B[38;5;28mself\u001B[39m\u001B[38;5;241m.\u001B[39mbetas\u001B[38;5;241m.\u001B[39mat[:, t]\u001B[38;5;241m.\u001B[39mset(\u001B[38;5;28mself\u001B[39m\u001B[38;5;241m.\u001B[39mbetas[:, t \u001B[38;5;241m-\u001B[39m \u001B[38;5;241m1\u001B[39m])\n",
      "    \u001B[0;31m[... skipping hidden 3 frame]\u001B[0m\n",
      "File \u001B[0;32m~/PycharmProjects/PF_forecast/src/particle_filter/particle_cloud.py:117\u001B[0m, in \u001B[0;36mParticleCloud._update_single_particle\u001B[0;34m(self, state, t)\u001B[0m\n\u001B[1;32m    115\u001B[0m     det_update \u001B[38;5;241m=\u001B[39m \u001B[38;5;28mself\u001B[39m\u001B[38;5;241m.\u001B[39mmodel\u001B[38;5;241m.\u001B[39mdet_component(state, t) \u001B[38;5;241m*\u001B[39m \u001B[38;5;28mself\u001B[39m\u001B[38;5;241m.\u001B[39msettings\u001B[38;5;241m.\u001B[39mdt\n\u001B[1;32m    116\u001B[0m     \u001B[38;5;28mself\u001B[39m\u001B[38;5;241m.\u001B[39mkey, subkey \u001B[38;5;241m=\u001B[39m random\u001B[38;5;241m.\u001B[39msplit(\u001B[38;5;28mself\u001B[39m\u001B[38;5;241m.\u001B[39mkey)\n\u001B[0;32m--> 117\u001B[0m     sto_update \u001B[38;5;241m=\u001B[39m \u001B[38;5;28;43mself\u001B[39;49m\u001B[38;5;241;43m.\u001B[39;49m\u001B[43mmodel\u001B[49m\u001B[38;5;241;43m.\u001B[39;49m\u001B[43msto_component\u001B[49m\u001B[43m(\u001B[49m\u001B[43mstate\u001B[49m\u001B[43m,\u001B[49m\u001B[43m \u001B[49m\u001B[38;5;28;43mself\u001B[39;49m\u001B[38;5;241;43m.\u001B[39;49m\u001B[43msettings\u001B[49m\u001B[38;5;241;43m.\u001B[39;49m\u001B[43mdt\u001B[49m\u001B[43m,\u001B[49m\u001B[43m \u001B[49m\u001B[43msubkey\u001B[49m\u001B[43m)\u001B[49m\n\u001B[1;32m    118\u001B[0m     state \u001B[38;5;241m+\u001B[39m\u001B[38;5;241m=\u001B[39m det_update \u001B[38;5;241m+\u001B[39m sto_update\n\u001B[1;32m    119\u001B[0m \u001B[38;5;28;01mreturn\u001B[39;00m state\n",
      "File \u001B[0;32m~/PycharmProjects/PF_forecast/src/particle_filter/transition.py:91\u001B[0m, in \u001B[0;36mOUModel.sto_component\u001B[0;34m(self, state, dt, key)\u001B[0m\n\u001B[1;32m     89\u001B[0m \u001B[38;5;66;03m# Stochastic component for beta\u001B[39;00m\n\u001B[1;32m     90\u001B[0m dW_beta \u001B[38;5;241m=\u001B[39m random\u001B[38;5;241m.\u001B[39mnormal(key, shape\u001B[38;5;241m=\u001B[39m())  \u001B[38;5;66;03m# single Wiener process for beta\u001B[39;00m\n\u001B[0;32m---> 91\u001B[0m d_beta \u001B[38;5;241m=\u001B[39m \u001B[38;5;28;43mself\u001B[39;49m\u001B[38;5;241;43m.\u001B[39;49m\u001B[43mparams\u001B[49m\u001B[38;5;241;43m.\u001B[39;49m\u001B[43mbeta_sigma\u001B[49m\u001B[43m \u001B[49m\u001B[38;5;241;43m*\u001B[39;49m\u001B[43m \u001B[49m\u001B[43mjnp\u001B[49m\u001B[38;5;241;43m.\u001B[39;49m\u001B[43msqrt\u001B[49m\u001B[43m(\u001B[49m\u001B[43mdt\u001B[49m\u001B[43m)\u001B[49m \u001B[38;5;241m*\u001B[39m dW_beta\n\u001B[1;32m     93\u001B[0m \u001B[38;5;66;03m# Note that new_H is derived from I, so we do not\u001B[39;00m\n\u001B[1;32m     94\u001B[0m \u001B[38;5;66;03m# perturb new_H --- dI already accounts for that.\u001B[39;00m\n\u001B[1;32m     95\u001B[0m \u001B[38;5;28;01mreturn\u001B[39;00m jnp\u001B[38;5;241m.\u001B[39marray([dS, dI, dR, dH, \u001B[38;5;241m0\u001B[39m, d_beta])\n",
      "\u001B[0;31mTypeError\u001B[0m: unsupported operand type(s) for *: 'NoneType' and 'jaxlib.xla_extension.ArrayImpl'"
     ]
    }
   ],
   "execution_count": 6
  },
  {
   "metadata": {
    "ExecuteTime": {
     "end_time": "2024-08-04T18:01:29.199556Z",
     "start_time": "2024-08-04T18:01:29.198297Z"
    }
   },
   "cell_type": "code",
   "source": "",
   "id": "cdb8b577583adad2",
   "outputs": [],
   "execution_count": null
  }
 ],
 "metadata": {
  "kernelspec": {
   "display_name": "Python 3",
   "language": "python",
   "name": "python3"
  },
  "language_info": {
   "codemirror_mode": {
    "name": "ipython",
    "version": 2
   },
   "file_extension": ".py",
   "mimetype": "text/x-python",
   "name": "python",
   "nbconvert_exporter": "python",
   "pygments_lexer": "ipython2",
   "version": "2.7.6"
  }
 },
 "nbformat": 4,
 "nbformat_minor": 5
}
