{
 "cells": [
  {
   "cell_type": "code",
   "id": "initial_id",
   "metadata": {
    "collapsed": true,
    "ExecuteTime": {
     "end_time": "2024-08-05T20:39:28.017231Z",
     "start_time": "2024-08-05T20:39:28.008204Z"
    }
   },
   "source": [
    "import toml\n",
    "import os\n",
    "import paths\n",
    "\n",
    "def load_config():\n",
    "    config_path = os.path.join(paths.PF_DIR, \"config.toml\")\n",
    "    return toml.load(config_path)"
   ],
   "outputs": [],
   "execution_count": 1
  },
  {
   "metadata": {
    "ExecuteTime": {
     "end_time": "2024-08-05T20:39:28.024277Z",
     "start_time": "2024-08-05T20:39:28.018626Z"
    }
   },
   "cell_type": "code",
   "source": "config = load_config()",
   "id": "bd5814a05327e37a",
   "outputs": [],
   "execution_count": 2
  },
  {
   "metadata": {
    "ExecuteTime": {
     "end_time": "2024-08-05T20:39:29.216429Z",
     "start_time": "2024-08-05T20:39:28.111744Z"
    }
   },
   "cell_type": "code",
   "source": [
    "from src.particle_filter.parameters import ModelParameters\n",
    "from src.particle_filter.global_settings import GlobalSettings\n",
    "\n",
    "global_settings = GlobalSettings(\n",
    "        num_particles=config[\"filter_params\"][\"num_particles\"],\n",
    "        population=100000,\n",
    "        location_code='04',\n",
    "        final_date='2023-10-28',\n",
    "        runtime=365,\n",
    "        dt=config[\"filter_params\"][\"dt\"],\n",
    "        beta_prior=tuple(config[\"filter_params\"][\"beta_prior\"]),\n",
    "        seed_size=config[\"filter_params\"][\"seed_size\"],\n",
    "        likelihood_n=10,\n",
    "        likelihood_p=0.3\n",
    "    )\n",
    "\n",
    "    # Initializing ModelParameters automatically grabs\n",
    "    # params from the config.toml file.\n",
    "config_path = os.path.join(paths.PF_DIR, \"config.toml\")\n",
    "model_parameters = ModelParameters(config_path)"
   ],
   "id": "809f9231f89a0ea7",
   "outputs": [],
   "execution_count": 3
  },
  {
   "metadata": {
    "ExecuteTime": {
     "end_time": "2024-08-05T20:39:30.444830Z",
     "start_time": "2024-08-05T20:39:29.218620Z"
    }
   },
   "cell_type": "code",
   "source": [
    "from src.particle_filter.particle_cloud import ParticleCloud\n",
    "from src.particle_filter.transition import OUModel\n",
    "\n",
    "particles = ParticleCloud(settings = global_settings,\n",
    "                          transition = OUModel(config_path))"
   ],
   "id": "7972a3f4ed8b30f5",
   "outputs": [],
   "execution_count": 4
  },
  {
   "metadata": {
    "ExecuteTime": {
     "end_time": "2024-08-05T20:39:30.482763Z",
     "start_time": "2024-08-05T20:39:30.446423Z"
    }
   },
   "cell_type": "code",
   "source": "particles.states[1, :, 0]",
   "id": "8b82e28f115a8cdb",
   "outputs": [
    {
     "data": {
      "text/plain": [
       "Array([9.7346734e+04, 2.6532617e+03, 0.0000000e+00, 0.0000000e+00,\n",
       "       0.0000000e+00, 1.9430254e-01], dtype=float32)"
      ]
     },
     "execution_count": 5,
     "metadata": {},
     "output_type": "execute_result"
    }
   ],
   "execution_count": 5
  },
  {
   "metadata": {},
   "cell_type": "markdown",
   "source": "Nice. Initial state is as expected. [S, I, R, H, new_H, Beta]",
   "id": "f958fd596b6b269"
  },
  {
   "metadata": {
    "ExecuteTime": {
     "end_time": "2024-08-05T20:39:30.487460Z",
     "start_time": "2024-08-05T20:39:30.484464Z"
    }
   },
   "cell_type": "code",
   "source": "print(particles.model.params.hosp)",
   "id": "d5143b3c36c6b800",
   "outputs": [
    {
     "name": "stdout",
     "output_type": "stream",
     "text": [
      "10\n"
     ]
    }
   ],
   "execution_count": 6
  },
  {
   "metadata": {
    "ExecuteTime": {
     "end_time": "2024-08-05T20:39:40.273883Z",
     "start_time": "2024-08-05T20:39:30.488464Z"
    }
   },
   "cell_type": "code",
   "source": [
    "for time in range(1, particles.settings.runtime):\n",
    "    particles.update_all_particles(time)"
   ],
   "id": "6920030e76a388d9",
   "outputs": [],
   "execution_count": 7
  },
  {
   "metadata": {
    "ExecuteTime": {
     "end_time": "2024-08-05T20:39:46.887827Z",
     "start_time": "2024-08-05T20:39:46.847384Z"
    }
   },
   "cell_type": "code",
   "source": "print(particles.states[0, :, -1])",
   "id": "cdb8b577583adad2",
   "outputs": [
    {
     "name": "stdout",
     "output_type": "stream",
     "text": [
      "[3.0893454e+02 5.9064083e+01 4.5385004e+02 4.3449507e+00 7.1070000e+03\n",
      " 1.6161734e-01]\n"
     ]
    }
   ],
   "execution_count": 9
  },
  {
   "metadata": {
    "ExecuteTime": {
     "end_time": "2024-08-05T20:39:40.283939Z",
     "start_time": "2024-08-05T20:39:40.281988Z"
    }
   },
   "cell_type": "code",
   "source": "",
   "id": "2c96844dd463cb4d",
   "outputs": [],
   "execution_count": 8
  }
 ],
 "metadata": {
  "kernelspec": {
   "display_name": "Python 3",
   "language": "python",
   "name": "python3"
  },
  "language_info": {
   "codemirror_mode": {
    "name": "ipython",
    "version": 2
   },
   "file_extension": ".py",
   "mimetype": "text/x-python",
   "name": "python",
   "nbconvert_exporter": "python",
   "pygments_lexer": "ipython2",
   "version": "2.7.6"
  }
 },
 "nbformat": 4,
 "nbformat_minor": 5
}
