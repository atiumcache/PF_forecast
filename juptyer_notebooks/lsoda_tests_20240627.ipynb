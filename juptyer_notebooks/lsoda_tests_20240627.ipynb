{
 "cells": [
  {
   "metadata": {
    "ExecuteTime": {
     "end_time": "2024-06-27T16:42:19.928988Z",
     "start_time": "2024-06-27T16:42:12.009106Z"
    }
   },
   "cell_type": "code",
   "source": [
    "from particle_filter import main as pf_main\n",
    "\n",
    "pf_main(\"04\", \"2023-10-28\")"
   ],
   "id": "6c3245b461f626c6",
   "outputs": [
    {
     "name": "stderr",
     "output_type": "stream",
     "text": [
      "/home/andrew/Documents/code/filter_forecast/filter_forecast/helpers.py:71: SettingWithCopyWarning: \n",
      "A value is trying to be set on a copy of a slice from a DataFrame.\n",
      "Try using .loc[row_indexer,col_indexer] = value instead\n",
      "\n",
      "See the caveats in the documentation: https://pandas.pydata.org/pandas-docs/stable/user_guide/indexing.html#returning-a-view-versus-a-copy\n",
      "  df_filtered[\"previous_day_admission_influenza_confirmed\"] = df_filtered[\n",
      "/home/andrew/Documents/code/filter_forecast/filter_forecast/helpers.py:76: SettingWithCopyWarning: \n",
      "A value is trying to be set on a copy of a slice from a DataFrame\n",
      "\n",
      "See the caveats in the documentation: https://pandas.pydata.org/pandas-docs/stable/user_guide/indexing.html#returning-a-view-versus-a-copy\n",
      "  df_filtered.drop(\n"
     ]
    },
    {
     "name": "stdout",
     "output_type": "stream",
     "text": [
      "Running particle filter on location: 04\n",
      "Iteration: 125\r"
     ]
    }
   ],
   "execution_count": 1
  },
  {
   "cell_type": "code",
   "id": "initial_id",
   "metadata": {
    "collapsed": true,
    "ExecuteTime": {
     "end_time": "2024-06-27T16:50:36.742158Z",
     "start_time": "2024-06-27T16:50:35.343562Z"
    }
   },
   "source": [
    "from LSODA_forecast import main as lsoda_main\n",
    "\n",
    "lsoda_main(\"AZ\", \"04\", \"2023-10-28\")"
   ],
   "outputs": [
    {
     "name": "stdout",
     "output_type": "stream",
     "text": [
      "(1000, 28)\n",
      "[[0.08887289 0.08840784 0.09081321 ... 0.06963905 0.07157746 0.071704  ]\n",
      " [0.08792592 0.09022523 0.09014345 ... 0.07585778 0.07418861 0.07540766]\n",
      " [0.08725696 0.08866964 0.08861281 ... 0.07396696 0.07274461 0.07317845]\n",
      " ...\n",
      " [0.09177119 0.09287957 0.09072424 ... 0.07379184 0.07404276 0.0738187 ]\n",
      " [0.0894097  0.08809521 0.08890273 ... 0.07331288 0.07303509 0.07163599]\n",
      " [0.09001051 0.08810004 0.08889798 ... 0.07548672 0.07598224 0.07370868]]\n",
      "Forecast: [[7.14517724e+06 7.14513820e+06 7.14510261e+06 7.14507197e+06\n",
      "  7.14504616e+06 7.14502336e+06 7.14500204e+06 7.14498222e+06\n",
      "  7.14496397e+06 7.14494732e+06 7.14493229e+06 7.14491890e+06\n",
      "  7.14490712e+06 7.14489792e+06 7.14489200e+06 7.14488879e+06\n",
      "  7.14488784e+06 7.14488886e+06 7.14489171e+06 7.14489639e+06\n",
      "  7.14490302e+06 7.14491189e+06 7.14492207e+06 7.14493262e+06\n",
      "  7.14494514e+06 7.14496043e+06 7.14497835e+06]\n",
      " [1.06118116e+03 1.05085852e+03 1.03878796e+03 1.02372441e+03\n",
      "  1.00605066e+03 9.87731933e+02 9.70297326e+02 9.53578567e+02\n",
      "  9.37404452e+02 9.21646086e+02 9.06216887e+02 8.91072581e+02\n",
      "  8.76211206e+02 8.60719031e+02 8.43942992e+02 8.26468082e+02\n",
      "  8.08733519e+02 7.91030785e+02 7.73503627e+02 7.56148055e+02\n",
      "  7.38812342e+02 7.21197028e+02 7.04205625e+02 6.88630769e+02\n",
      "  6.72743772e+02 6.55775910e+02 6.37976739e+02]\n",
      " [5.20208104e+03 5.25126337e+03 5.29881867e+03 5.34451252e+03\n",
      "  5.38808794e+03 5.42939055e+03 5.46843053e+03 5.50532367e+03\n",
      "  5.54016771e+03 5.57303992e+03 5.60399718e+03 5.63307591e+03\n",
      "  5.66029214e+03 5.68560669e+03 5.70896351e+03 5.73035072e+03\n",
      "  5.74976141e+03 5.76719363e+03 5.78265033e+03 5.79613942e+03\n",
      "  5.80767372e+03 5.81727100e+03 5.82496312e+03 5.83088274e+03\n",
      "  5.83513699e+03 5.83771675e+03 5.83849603e+03]\n",
      " [6.14944348e+01 6.16787395e+01 6.17787418e+01 6.17881189e+01\n",
      "  6.17003060e+01 6.15135361e+01 6.12330621e+01 6.08768406e+01\n",
      "  6.04612739e+01 5.99981971e+01 5.94948782e+01 5.89540180e+01\n",
      "  5.83737503e+01 5.77507838e+01 5.70889683e+01 5.63928805e+01\n",
      "  5.56662120e+01 5.49117710e+01 5.41314823e+01 5.33263870e+01\n",
      "  5.24966428e+01 5.16415241e+01 5.07611927e+01 4.98690016e+01\n",
      "  4.89762865e+01 4.80821247e+01 4.71732793e+01]\n",
      " [7.00000000e+00 1.35805531e+01 2.00919439e+01 2.65185069e+01\n",
      "  3.28429961e+01 3.90545857e+01 4.51528754e+01 5.11441964e+01\n",
      "  5.70337046e+01 6.28252281e+01 6.85212674e+01 7.41229954e+01\n",
      "  7.96302575e+01 8.50393997e+01 9.03457201e+01 9.55472822e+01\n",
      "  1.00642441e+02 1.05629838e+02 1.10508403e+02 1.15277353e+02\n",
      "  1.19936190e+02 1.24484707e+02 1.28923654e+02 1.33260357e+02\n",
      "  1.37500422e+02 1.41642037e+02 1.45675934e+02]]\n"
     ]
    }
   ],
   "execution_count": 1
  },
  {
   "metadata": {},
   "cell_type": "code",
   "source": "",
   "id": "528bd72c8c7830d9",
   "outputs": [],
   "execution_count": null
  }
 ],
 "metadata": {
  "kernelspec": {
   "display_name": "Python 3",
   "language": "python",
   "name": "python3"
  },
  "language_info": {
   "codemirror_mode": {
    "name": "ipython",
    "version": 2
   },
   "file_extension": ".py",
   "mimetype": "text/x-python",
   "name": "python",
   "nbconvert_exporter": "python",
   "pygments_lexer": "ipython2",
   "version": "2.7.6"
  }
 },
 "nbformat": 4,
 "nbformat_minor": 5
}
