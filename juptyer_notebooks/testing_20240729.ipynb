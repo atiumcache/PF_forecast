{
 "cells": [
  {
   "cell_type": "code",
   "id": "initial_id",
   "metadata": {
    "collapsed": true,
    "ExecuteTime": {
     "end_time": "2024-07-29T17:47:02.031461Z",
     "start_time": "2024-07-29T17:47:01.525212Z"
    }
   },
   "source": [
    "from filter_forecast.particle_filter.init_settings import InitSettings\n",
    "from filter_forecast.particle_filter.particle_cloud import ParticleCloud\n",
    "from filter_forecast.particle_filter.transition import GaussianNoiseModel\n",
    "from filter_forecast.particle_filter.parameters import ModelParameters"
   ],
   "outputs": [],
   "execution_count": 1
  },
  {
   "metadata": {
    "ExecuteTime": {
     "end_time": "2024-07-29T17:52:17.183037Z",
     "start_time": "2024-07-29T17:52:17.179509Z"
    }
   },
   "cell_type": "code",
   "source": [
    "days = 150\n",
    "\n",
    "settings = InitSettings(\n",
    "    num_particles=10,\n",
    "    population=10000,\n",
    "    location_code=\"04\",\n",
    "    runtime=days,\n",
    "    prediction_date=\"2024-07-22\",\n",
    ")"
   ],
   "id": "1223bfc37d69608a",
   "outputs": [],
   "execution_count": 12
  },
  {
   "metadata": {
    "ExecuteTime": {
     "end_time": "2024-07-29T17:52:17.874973Z",
     "start_time": "2024-07-29T17:52:17.865412Z"
    }
   },
   "cell_type": "code",
   "source": [
    "particles = ParticleCloud(\n",
    "        settings, transition=GaussianNoiseModel(model_params=ModelParameters())\n",
    "    )"
   ],
   "id": "efacbaa4ac2c022f",
   "outputs": [
    {
     "name": "stdout",
     "output_type": "stream",
     "text": [
      "Initial states shape: (10, 5)\n",
      "States shape after initialization: (10, 5, 150)\n",
      "States shape after setting initial states: (10, 5, 150)\n",
      "Initial Betas: [0.11855836 0.10536894 0.13180161 0.13449364 0.14926766 0.14908926\n",
      " 0.13599259 0.14718345 0.10095905 0.14493498]\n",
      "Initial beta array (10, 150)\n"
     ]
    }
   ],
   "execution_count": 13
  },
  {
   "metadata": {
    "ExecuteTime": {
     "end_time": "2024-07-29T17:52:18.765967Z",
     "start_time": "2024-07-29T17:52:18.744119Z"
    }
   },
   "cell_type": "code",
   "source": "particles.states[:, :, 0]",
   "id": "3b42486a1c26b75e",
   "outputs": [
    {
     "data": {
      "text/plain": [
       "Array([[9.9695928e+03, 3.0406986e+01, 0.0000000e+00, 0.0000000e+00,\n",
       "        0.0000000e+00],\n",
       "       [9.9504277e+03, 4.9572708e+01, 0.0000000e+00, 0.0000000e+00,\n",
       "        0.0000000e+00],\n",
       "       [9.9940332e+03, 5.9667850e+00, 0.0000000e+00, 0.0000000e+00,\n",
       "        0.0000000e+00],\n",
       "       [9.9840801e+03, 1.5919970e+01, 0.0000000e+00, 0.0000000e+00,\n",
       "        0.0000000e+00],\n",
       "       [9.9637988e+03, 3.6201595e+01, 0.0000000e+00, 0.0000000e+00,\n",
       "        0.0000000e+00],\n",
       "       [9.9590010e+03, 4.0998882e+01, 0.0000000e+00, 0.0000000e+00,\n",
       "        0.0000000e+00],\n",
       "       [9.9528857e+03, 4.7114689e+01, 0.0000000e+00, 0.0000000e+00,\n",
       "        0.0000000e+00],\n",
       "       [9.9842109e+03, 1.5789450e+01, 0.0000000e+00, 0.0000000e+00,\n",
       "        0.0000000e+00],\n",
       "       [9.9531738e+03, 4.6826195e+01, 0.0000000e+00, 0.0000000e+00,\n",
       "        0.0000000e+00],\n",
       "       [9.9939492e+03, 6.0509229e+00, 0.0000000e+00, 0.0000000e+00,\n",
       "        0.0000000e+00]], dtype=float32)"
      ]
     },
     "execution_count": 14,
     "metadata": {},
     "output_type": "execute_result"
    }
   ],
   "execution_count": 14
  },
  {
   "metadata": {
    "ExecuteTime": {
     "end_time": "2024-07-29T17:52:20.863490Z",
     "start_time": "2024-07-29T17:52:20.853842Z"
    }
   },
   "cell_type": "code",
   "source": "particles.states[:, :, 1]",
   "id": "b605091d757eb36",
   "outputs": [
    {
     "data": {
      "text/plain": [
       "Array([[0., 0., 0., 0., 0.],\n",
       "       [0., 0., 0., 0., 0.],\n",
       "       [0., 0., 0., 0., 0.],\n",
       "       [0., 0., 0., 0., 0.],\n",
       "       [0., 0., 0., 0., 0.],\n",
       "       [0., 0., 0., 0., 0.],\n",
       "       [0., 0., 0., 0., 0.],\n",
       "       [0., 0., 0., 0., 0.],\n",
       "       [0., 0., 0., 0., 0.],\n",
       "       [0., 0., 0., 0., 0.]], dtype=float32)"
      ]
     },
     "execution_count": 15,
     "metadata": {},
     "output_type": "execute_result"
    }
   ],
   "execution_count": 15
  },
  {
   "metadata": {
    "ExecuteTime": {
     "end_time": "2024-07-29T17:52:21.885621Z",
     "start_time": "2024-07-29T17:52:21.844922Z"
    }
   },
   "cell_type": "code",
   "source": "particles.update_all_particles(t=1)",
   "id": "d47902c8f655c065",
   "outputs": [
    {
     "name": "stdout",
     "output_type": "stream",
     "text": [
      "Deterministic Update: [nan nan  0.  0.  0.]\n",
      "[nan nan  0.  0.  0.]\n",
      "Deterministic Update: [nan nan  0.  0.  0.]\n",
      "[nan nan  0.  0.  0.]\n",
      "Deterministic Update: [nan nan  0.  0.  0.]\n",
      "[nan nan  0.  0.  0.]\n",
      "Deterministic Update: [nan nan  0.  0.  0.]\n",
      "[nan nan  0.  0.  0.]\n",
      "Deterministic Update: [nan nan  0.  0.  0.]\n",
      "[nan nan  0.  0.  0.]\n",
      "Deterministic Update: [nan nan  0.  0.  0.]\n",
      "[nan nan  0.  0.  0.]\n",
      "Deterministic Update: [nan nan  0.  0.  0.]\n",
      "[nan nan  0.  0.  0.]\n",
      "Deterministic Update: [nan nan  0.  0.  0.]\n",
      "[nan nan  0.  0.  0.]\n",
      "Deterministic Update: [nan nan  0.  0.  0.]\n",
      "[nan nan  0.  0.  0.]\n",
      "Deterministic Update: [nan nan  0.  0.  0.]\n",
      "[nan nan  0.  0.  0.]\n",
      "[[nan nan  0.  0.  0.]\n",
      " [nan nan  0.  0.  0.]\n",
      " [nan nan  0.  0.  0.]\n",
      " [nan nan  0.  0.  0.]\n",
      " [nan nan  0.  0.  0.]\n",
      " [nan nan  0.  0.  0.]\n",
      " [nan nan  0.  0.  0.]\n",
      " [nan nan  0.  0.  0.]\n",
      " [nan nan  0.  0.  0.]\n",
      " [nan nan  0.  0.  0.]]\n"
     ]
    }
   ],
   "execution_count": 16
  },
  {
   "metadata": {
    "ExecuteTime": {
     "end_time": "2024-07-29T17:47:02.642148Z",
     "start_time": "2024-07-29T17:47:02.639918Z"
    }
   },
   "cell_type": "code",
   "source": "",
   "id": "13c4fd04e586d2a7",
   "outputs": [],
   "execution_count": 6
  }
 ],
 "metadata": {
  "kernelspec": {
   "display_name": "Python 3",
   "language": "python",
   "name": "python3"
  },
  "language_info": {
   "codemirror_mode": {
    "name": "ipython",
    "version": 2
   },
   "file_extension": ".py",
   "mimetype": "text/x-python",
   "name": "python",
   "nbconvert_exporter": "python",
   "pygments_lexer": "ipython2",
   "version": "2.7.6"
  }
 },
 "nbformat": 4,
 "nbformat_minor": 5
}
