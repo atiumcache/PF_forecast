{
 "cells": [
  {
   "cell_type": "code",
   "id": "initial_id",
   "metadata": {
    "collapsed": true,
    "ExecuteTime": {
     "end_time": "2024-07-30T17:00:20.826828Z",
     "start_time": "2024-07-30T17:00:20.343507Z"
    }
   },
   "source": [
    "from filter_forecast.particle_filter.global_settings import GlobalSettings\n",
    "from filter_forecast.particle_filter.particle_cloud import ParticleCloud\n",
    "from filter_forecast.particle_filter.transition import GaussianNoiseModel\n",
    "from filter_forecast.particle_filter.parameters import ModelParameters"
   ],
   "outputs": [],
   "execution_count": 1
  },
  {
   "metadata": {
    "ExecuteTime": {
     "end_time": "2024-07-30T17:00:20.833728Z",
     "start_time": "2024-07-30T17:00:20.829024Z"
    }
   },
   "cell_type": "code",
   "source": [
    "days = 150\n",
    "\n",
    "settings = GlobalSettings(\n",
    "    num_particles=10,\n",
    "    population=10000,\n",
    "    location_code=\"04\",\n",
    "    final_date=\"2024-07-22\",\n",
    ")"
   ],
   "id": "1223bfc37d69608a",
   "outputs": [],
   "execution_count": 2
  },
  {
   "metadata": {
    "ExecuteTime": {
     "end_time": "2024-07-30T17:00:21.357917Z",
     "start_time": "2024-07-30T17:00:20.835175Z"
    }
   },
   "cell_type": "code",
   "source": [
    "particles = ParticleCloud(\n",
    "    settings, transition=GaussianNoiseModel(model_params=ModelParameters())\n",
    ")"
   ],
   "id": "efacbaa4ac2c022f",
   "outputs": [],
   "execution_count": 3
  },
  {
   "metadata": {
    "ExecuteTime": {
     "end_time": "2024-07-30T17:00:21.397125Z",
     "start_time": "2024-07-30T17:00:21.360400Z"
    }
   },
   "cell_type": "code",
   "source": "particles.states[:, :, 0]",
   "id": "3b42486a1c26b75e",
   "outputs": [
    {
     "data": {
      "text/plain": [
       "Array([[9.9684014e+03, 3.1598352e+01, 0.0000000e+00, 0.0000000e+00,\n",
       "        0.0000000e+00],\n",
       "       [9.9747852e+03, 2.5214497e+01, 0.0000000e+00, 0.0000000e+00,\n",
       "        0.0000000e+00],\n",
       "       [9.9578643e+03, 4.2135590e+01, 0.0000000e+00, 0.0000000e+00,\n",
       "        0.0000000e+00],\n",
       "       [9.9683633e+03, 3.1636997e+01, 0.0000000e+00, 0.0000000e+00,\n",
       "        0.0000000e+00],\n",
       "       [9.9581709e+03, 4.1829376e+01, 0.0000000e+00, 0.0000000e+00,\n",
       "        0.0000000e+00],\n",
       "       [9.9888916e+03, 1.1108426e+01, 0.0000000e+00, 0.0000000e+00,\n",
       "        0.0000000e+00],\n",
       "       [9.9701348e+03, 2.9865690e+01, 0.0000000e+00, 0.0000000e+00,\n",
       "        0.0000000e+00],\n",
       "       [9.9722812e+03, 2.7718929e+01, 0.0000000e+00, 0.0000000e+00,\n",
       "        0.0000000e+00],\n",
       "       [9.9985850e+03, 1.4150971e+00, 0.0000000e+00, 0.0000000e+00,\n",
       "        0.0000000e+00],\n",
       "       [9.9985723e+03, 1.4274806e+00, 0.0000000e+00, 0.0000000e+00,\n",
       "        0.0000000e+00]], dtype=float32)"
      ]
     },
     "execution_count": 4,
     "metadata": {},
     "output_type": "execute_result"
    }
   ],
   "execution_count": 4
  },
  {
   "metadata": {
    "ExecuteTime": {
     "end_time": "2024-07-30T17:00:21.404502Z",
     "start_time": "2024-07-30T17:00:21.398728Z"
    }
   },
   "cell_type": "code",
   "source": "particles.states[:, :, 1]",
   "id": "b605091d757eb36",
   "outputs": [
    {
     "data": {
      "text/plain": [
       "Array([[0., 0., 0., 0., 0.],\n",
       "       [0., 0., 0., 0., 0.],\n",
       "       [0., 0., 0., 0., 0.],\n",
       "       [0., 0., 0., 0., 0.],\n",
       "       [0., 0., 0., 0., 0.],\n",
       "       [0., 0., 0., 0., 0.],\n",
       "       [0., 0., 0., 0., 0.],\n",
       "       [0., 0., 0., 0., 0.],\n",
       "       [0., 0., 0., 0., 0.],\n",
       "       [0., 0., 0., 0., 0.]], dtype=float32)"
      ]
     },
     "execution_count": 5,
     "metadata": {},
     "output_type": "execute_result"
    }
   ],
   "execution_count": 5
  },
  {
   "metadata": {
    "ExecuteTime": {
     "end_time": "2024-07-30T17:00:21.964787Z",
     "start_time": "2024-07-30T17:00:21.405664Z"
    }
   },
   "cell_type": "code",
   "source": "particles.update_all_particles(t=1)",
   "id": "d47902c8f655c065",
   "outputs": [],
   "execution_count": 6
  },
  {
   "metadata": {
    "ExecuteTime": {
     "end_time": "2024-07-30T17:00:21.973717Z",
     "start_time": "2024-07-30T17:00:21.967018Z"
    }
   },
   "cell_type": "code",
   "source": "particles.states[:, :, 1]",
   "id": "13c4fd04e586d2a7",
   "outputs": [
    {
     "data": {
      "text/plain": [
       "Array([[9.9638086e+03, 3.3032963e+01, 2.9718053e+00, 1.8983790e-01,\n",
       "        1.9012001e-01],\n",
       "       [9.9693604e+03, 2.8119396e+01, 2.3717227e+00, 1.5153477e-01,\n",
       "        1.5181687e-01],\n",
       "       [9.9533594e+03, 4.2428673e+01, 3.9623055e+00, 2.5306135e-01,\n",
       "        2.5334346e-01],\n",
       "       [9.9630703e+03, 3.3768150e+01, 2.9754379e+00, 1.9006978e-01,\n",
       "        1.9035189e-01],\n",
       "       [9.9498691e+03, 4.5950523e+01, 3.9335215e+00, 2.5122407e-01,\n",
       "        2.5150618e-01],\n",
       "       [9.9874697e+03, 1.1421137e+01, 1.0457522e+00, 6.6898346e-02,\n",
       "        6.7180462e-02],\n",
       "       [9.9667588e+03, 3.0257086e+01, 2.8089349e+00, 1.7944193e-01,\n",
       "        1.7972404e-01],\n",
       "       [9.9686719e+03, 2.8558285e+01, 2.6071396e+00, 1.6656137e-01,\n",
       "        1.6684347e-01],\n",
       "       [9.9982402e+03, 1.6206012e+00, 1.3457924e-01, 8.7383753e-03,\n",
       "        9.0204878e-03],\n",
       "       [9.9983867e+03, 1.4717107e+00, 1.3574329e-01, 8.8126762e-03,\n",
       "        9.0947887e-03]], dtype=float32)"
      ]
     },
     "execution_count": 7,
     "metadata": {},
     "output_type": "execute_result"
    }
   ],
   "execution_count": 7
  },
  {
   "metadata": {
    "ExecuteTime": {
     "end_time": "2024-07-30T17:00:22.160701Z",
     "start_time": "2024-07-30T17:00:21.975951Z"
    }
   },
   "cell_type": "code",
   "source": "particles.compute_all_weights(reported_data=2, t=1)",
   "id": "3244eca618c8e9ba",
   "outputs": [],
   "execution_count": 8
  },
  {
   "metadata": {
    "ExecuteTime": {
     "end_time": "2024-07-30T17:00:22.165932Z",
     "start_time": "2024-07-30T17:00:22.161837Z"
    }
   },
   "cell_type": "code",
   "source": "print(particles.weights[:, 1])",
   "id": "93c3d68882f58b2f",
   "outputs": [
    {
     "name": "stdout",
     "output_type": "stream",
     "text": [
      "[-4.831617  -4.831645  -4.831572  -4.831617  -4.831573  -4.831709\n",
      " -4.8316245 -4.8316336 -4.8317547 -4.831754 ]\n"
     ]
    }
   ],
   "execution_count": 9
  },
  {
   "metadata": {
    "ExecuteTime": {
     "end_time": "2024-07-30T17:00:22.319335Z",
     "start_time": "2024-07-30T17:00:22.167978Z"
    }
   },
   "cell_type": "code",
   "source": "particles.normalize_weights(t=1)",
   "id": "a1a80467a9d69ce9",
   "outputs": [],
   "execution_count": 10
  },
  {
   "metadata": {
    "ExecuteTime": {
     "end_time": "2024-07-30T17:00:22.324853Z",
     "start_time": "2024-07-30T17:00:22.320528Z"
    }
   },
   "cell_type": "code",
   "source": "print(particles.weights[:, 1])",
   "id": "5106268a9118ee57",
   "outputs": [
    {
     "name": "stdout",
     "output_type": "stream",
     "text": [
      "[-2.302552  -2.30258   -2.3025072 -2.302552  -2.302508  -2.302644\n",
      " -2.3025596 -2.3025687 -2.3026898 -2.3026893]\n"
     ]
    }
   ],
   "execution_count": 11
  },
  {
   "metadata": {},
   "cell_type": "markdown",
   "source": "Testing if a highly-weighted particle is resampled.",
   "id": "c2c9dcfebfaad73f"
  },
  {
   "metadata": {
    "ExecuteTime": {
     "end_time": "2024-07-30T17:00:22.405515Z",
     "start_time": "2024-07-30T17:00:22.326463Z"
    }
   },
   "cell_type": "code",
   "source": [
    "particles.weights = particles.weights.at[0, 1].set(1)\n",
    "print(particles.weights[:, 1])"
   ],
   "id": "8b8c0a5f1b423822",
   "outputs": [
    {
     "name": "stdout",
     "output_type": "stream",
     "text": [
      "[ 1.        -2.30258   -2.3025072 -2.302552  -2.302508  -2.302644\n",
      " -2.3025596 -2.3025687 -2.3026898 -2.3026893]\n"
     ]
    }
   ],
   "execution_count": 12
  },
  {
   "metadata": {
    "ExecuteTime": {
     "end_time": "2024-07-30T17:00:22.665089Z",
     "start_time": "2024-07-30T17:00:22.407186Z"
    }
   },
   "cell_type": "code",
   "source": "particles.resample(t=1)",
   "id": "c7112a02e9fe25f1",
   "outputs": [],
   "execution_count": 13
  },
  {
   "metadata": {
    "ExecuteTime": {
     "end_time": "2024-07-30T17:00:22.668241Z",
     "start_time": "2024-07-30T17:00:22.666162Z"
    }
   },
   "cell_type": "code",
   "source": "",
   "id": "2de89145d4b029b3",
   "outputs": [],
   "execution_count": 13
  }
 ],
 "metadata": {
  "kernelspec": {
   "display_name": "Python 3",
   "language": "python",
   "name": "python3"
  },
  "language_info": {
   "codemirror_mode": {
    "name": "ipython",
    "version": 2
   },
   "file_extension": ".py",
   "mimetype": "text/x-python",
   "name": "python",
   "nbconvert_exporter": "python",
   "pygments_lexer": "ipython2",
   "version": "2.7.6"
  }
 },
 "nbformat": 4,
 "nbformat_minor": 5
}
