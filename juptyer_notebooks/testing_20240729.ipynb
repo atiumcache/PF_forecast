{
 "cells": [
  {
   "cell_type": "code",
   "id": "initial_id",
   "metadata": {
    "collapsed": true,
    "ExecuteTime": {
     "end_time": "2024-07-29T20:55:11.096834Z",
     "start_time": "2024-07-29T20:55:10.713233Z"
    }
   },
   "source": [
    "from filter_forecast.particle_filter.init_settings import InitSettings\n",
    "from filter_forecast.particle_filter.particle_cloud import ParticleCloud\n",
    "from filter_forecast.particle_filter.transition import GaussianNoiseModel\n",
    "from filter_forecast.particle_filter.parameters import ModelParameters"
   ],
   "outputs": [],
   "execution_count": 1
  },
  {
   "metadata": {
    "ExecuteTime": {
     "end_time": "2024-07-29T20:55:11.101833Z",
     "start_time": "2024-07-29T20:55:11.098217Z"
    }
   },
   "cell_type": "code",
   "source": [
    "days = 150\n",
    "\n",
    "settings = InitSettings(\n",
    "    num_particles=10,\n",
    "    population=10000,\n",
    "    location_code=\"04\",\n",
    "    runtime=days,\n",
    "    prediction_date=\"2024-07-22\",\n",
    ")"
   ],
   "id": "1223bfc37d69608a",
   "outputs": [],
   "execution_count": 2
  },
  {
   "metadata": {
    "ExecuteTime": {
     "end_time": "2024-07-29T20:55:11.323283Z",
     "start_time": "2024-07-29T20:55:11.104206Z"
    }
   },
   "cell_type": "code",
   "source": [
    "particles = ParticleCloud(\n",
    "    settings, transition=GaussianNoiseModel(model_params=ModelParameters())\n",
    ")"
   ],
   "id": "efacbaa4ac2c022f",
   "outputs": [],
   "execution_count": 3
  },
  {
   "metadata": {
    "ExecuteTime": {
     "end_time": "2024-07-29T20:55:11.366097Z",
     "start_time": "2024-07-29T20:55:11.324734Z"
    }
   },
   "cell_type": "code",
   "source": "particles.states[:, :, 0]",
   "id": "3b42486a1c26b75e",
   "outputs": [
    {
     "data": {
      "text/plain": [
       "Array([[9.9823369e+03, 1.7663534e+01, 0.0000000e+00, 0.0000000e+00,\n",
       "        0.0000000e+00],\n",
       "       [9.9625830e+03, 3.7417252e+01, 0.0000000e+00, 0.0000000e+00,\n",
       "        0.0000000e+00],\n",
       "       [9.9887090e+03, 1.1291153e+01, 0.0000000e+00, 0.0000000e+00,\n",
       "        0.0000000e+00],\n",
       "       [9.9786191e+03, 2.1380676e+01, 0.0000000e+00, 0.0000000e+00,\n",
       "        0.0000000e+00],\n",
       "       [9.9875869e+03, 1.2413359e+01, 0.0000000e+00, 0.0000000e+00,\n",
       "        0.0000000e+00],\n",
       "       [9.9936904e+03, 6.3098578e+00, 0.0000000e+00, 0.0000000e+00,\n",
       "        0.0000000e+00],\n",
       "       [9.9765840e+03, 2.3416250e+01, 0.0000000e+00, 0.0000000e+00,\n",
       "        0.0000000e+00],\n",
       "       [9.9902402e+03, 9.7595024e+00, 0.0000000e+00, 0.0000000e+00,\n",
       "        0.0000000e+00],\n",
       "       [9.9932070e+03, 6.7933865e+00, 0.0000000e+00, 0.0000000e+00,\n",
       "        0.0000000e+00],\n",
       "       [9.9911025e+03, 8.8977222e+00, 0.0000000e+00, 0.0000000e+00,\n",
       "        0.0000000e+00]], dtype=float32)"
      ]
     },
     "execution_count": 4,
     "metadata": {},
     "output_type": "execute_result"
    }
   ],
   "execution_count": 4
  },
  {
   "metadata": {
    "ExecuteTime": {
     "end_time": "2024-07-29T20:55:11.372195Z",
     "start_time": "2024-07-29T20:55:11.367521Z"
    }
   },
   "cell_type": "code",
   "source": "particles.states[:, :, 1]",
   "id": "b605091d757eb36",
   "outputs": [
    {
     "data": {
      "text/plain": [
       "Array([[0., 0., 0., 0., 0.],\n",
       "       [0., 0., 0., 0., 0.],\n",
       "       [0., 0., 0., 0., 0.],\n",
       "       [0., 0., 0., 0., 0.],\n",
       "       [0., 0., 0., 0., 0.],\n",
       "       [0., 0., 0., 0., 0.],\n",
       "       [0., 0., 0., 0., 0.],\n",
       "       [0., 0., 0., 0., 0.],\n",
       "       [0., 0., 0., 0., 0.],\n",
       "       [0., 0., 0., 0., 0.]], dtype=float32)"
      ]
     },
     "execution_count": 5,
     "metadata": {},
     "output_type": "execute_result"
    }
   ],
   "execution_count": 5
  },
  {
   "metadata": {
    "ExecuteTime": {
     "end_time": "2024-07-29T20:55:11.826869Z",
     "start_time": "2024-07-29T20:55:11.373727Z"
    }
   },
   "cell_type": "code",
   "source": "particles.update_all_particles(t=1)",
   "id": "d47902c8f655c065",
   "outputs": [],
   "execution_count": 6
  },
  {
   "metadata": {
    "ExecuteTime": {
     "end_time": "2024-07-29T20:55:11.833092Z",
     "start_time": "2024-07-29T20:55:11.828090Z"
    }
   },
   "cell_type": "code",
   "source": "particles.states[:, :, 1]",
   "id": "13c4fd04e586d2a7",
   "outputs": [
    {
     "data": {
      "text/plain": [
       "Array([[9.98038086e+03, 1.78549137e+01, 1.65957654e+00, 1.06230713e-01,\n",
       "        1.06058575e-01],\n",
       "       [9.95874023e+03, 3.75196342e+01, 3.51642585e+00, 2.24753022e-01,\n",
       "        2.24580884e-01],\n",
       "       [9.98710059e+03, 1.17717752e+01, 1.06057274e+00, 6.79964200e-02,\n",
       "        6.78242818e-02],\n",
       "       [9.97604297e+03, 2.18204441e+01, 2.00898790e+00, 1.28533557e-01,\n",
       "        1.28361419e-01],\n",
       "       [9.98610840e+03, 1.26524706e+01, 1.16606009e+00, 7.47296587e-02,\n",
       "        7.45575204e-02],\n",
       "       [9.99297461e+03, 6.39585638e+00, 5.92330933e-01, 3.81086543e-02,\n",
       "        3.79365124e-02],\n",
       "       [9.97377734e+03, 2.38824635e+01, 2.20033193e+00, 1.40747011e-01,\n",
       "        1.40574872e-01],\n",
       "       [9.98887695e+03, 1.01483412e+01, 9.16597545e-01, 5.88065237e-02,\n",
       "        5.86343817e-02],\n",
       "       [9.99219238e+03, 7.13043451e+00, 6.37782633e-01, 4.10098284e-02,\n",
       "        4.08376865e-02],\n",
       "       [9.99007715e+03, 9.03536797e+00, 8.35590184e-01, 5.36358431e-02,\n",
       "        5.34637012e-02]], dtype=float32)"
      ]
     },
     "execution_count": 7,
     "metadata": {},
     "output_type": "execute_result"
    }
   ],
   "execution_count": 7
  },
  {
   "metadata": {
    "ExecuteTime": {
     "end_time": "2024-07-29T20:55:12.002381Z",
     "start_time": "2024-07-29T20:55:11.834549Z"
    }
   },
   "cell_type": "code",
   "source": "particles.compute_all_weights(reported_data=2, t=1)",
   "id": "3244eca618c8e9ba",
   "outputs": [],
   "execution_count": 8
  },
  {
   "metadata": {
    "ExecuteTime": {
     "end_time": "2024-07-29T20:55:12.009005Z",
     "start_time": "2024-07-29T20:55:12.005168Z"
    }
   },
   "cell_type": "code",
   "source": "print(particles.weights[:, 1])",
   "id": "93c3d68882f58b2f",
   "outputs": [
    {
     "name": "stdout",
     "output_type": "stream",
     "text": [
      "[-4.8316793 -4.831592  -4.8317084 -4.831662  -4.831703  -4.831732\n",
      " -4.831653  -4.8317156 -4.8317294 -4.8317194]\n"
     ]
    }
   ],
   "execution_count": 9
  },
  {
   "metadata": {
    "ExecuteTime": {
     "end_time": "2024-07-29T20:55:12.152743Z",
     "start_time": "2024-07-29T20:55:12.010171Z"
    }
   },
   "cell_type": "code",
   "source": "particles.normalize_weights(t=1)",
   "id": "a1a80467a9d69ce9",
   "outputs": [],
   "execution_count": 10
  },
  {
   "metadata": {
    "ExecuteTime": {
     "end_time": "2024-07-29T20:55:12.157531Z",
     "start_time": "2024-07-29T20:55:12.153808Z"
    }
   },
   "cell_type": "code",
   "source": "print(particles.weights[:, 1])",
   "id": "5106268a9118ee57",
   "outputs": [
    {
     "name": "stdout",
     "output_type": "stream",
     "text": [
      "[-2.3025749 -2.3024876 -2.302604  -2.3025577 -2.3025987 -2.3026273\n",
      " -2.3025486 -2.302611  -2.302625  -2.302615 ]\n"
     ]
    }
   ],
   "execution_count": 11
  },
  {
   "metadata": {},
   "cell_type": "markdown",
   "source": "Testing if a highly-weighted particle is resampled.",
   "id": "c2c9dcfebfaad73f"
  },
  {
   "metadata": {
    "ExecuteTime": {
     "end_time": "2024-07-29T20:55:12.292007Z",
     "start_time": "2024-07-29T20:55:12.159113Z"
    }
   },
   "cell_type": "code",
   "source": [
    "particles.weights = particles.weights.at[0, 1].set(1)\n",
    "print(particles.weights[:, 1])"
   ],
   "id": "8b8c0a5f1b423822",
   "outputs": [
    {
     "name": "stdout",
     "output_type": "stream",
     "text": [
      "[ 1.        -2.3024876 -2.302604  -2.3025577 -2.3025987 -2.3026273\n",
      " -2.3025486 -2.302611  -2.302625  -2.302615 ]\n"
     ]
    }
   ],
   "execution_count": 12
  },
  {
   "metadata": {
    "ExecuteTime": {
     "end_time": "2024-07-29T20:55:12.522266Z",
     "start_time": "2024-07-29T20:55:12.293328Z"
    }
   },
   "cell_type": "code",
   "source": "particles.resample(t=1)",
   "id": "c7112a02e9fe25f1",
   "outputs": [],
   "execution_count": 13
  },
  {
   "metadata": {
    "ExecuteTime": {
     "end_time": "2024-07-29T20:55:12.525162Z",
     "start_time": "2024-07-29T20:55:12.523315Z"
    }
   },
   "cell_type": "code",
   "source": "",
   "id": "2de89145d4b029b3",
   "outputs": [],
   "execution_count": 13
  }
 ],
 "metadata": {
  "kernelspec": {
   "display_name": "Python 3",
   "language": "python",
   "name": "python3"
  },
  "language_info": {
   "codemirror_mode": {
    "name": "ipython",
    "version": 2
   },
   "file_extension": ".py",
   "mimetype": "text/x-python",
   "name": "python",
   "nbconvert_exporter": "python",
   "pygments_lexer": "ipython2",
   "version": "2.7.6"
  }
 },
 "nbformat": 4,
 "nbformat_minor": 5
}
