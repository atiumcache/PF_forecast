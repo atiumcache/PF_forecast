{
 "cells": [
  {
   "cell_type": "code",
   "id": "initial_id",
   "metadata": {
    "collapsed": true,
    "ExecuteTime": {
     "end_time": "2024-07-30T22:12:54.360276Z",
     "start_time": "2024-07-30T22:12:03.217894Z"
    }
   },
   "source": [
    "from filter_forecast import run_particle_filter\n",
    "\n",
    "run_particle_filter.main('04', '2023-10-28')"
   ],
   "outputs": [
    {
     "name": "stderr",
     "output_type": "stream",
     "text": [
      "/home/andrew/Documents/code/PF_forecast/filter_forecast/helpers.py:71: SettingWithCopyWarning: \n",
      "A value is trying to be set on a copy of a slice from a DataFrame.\n",
      "Try using .loc[row_indexer,col_indexer] = value instead\n",
      "\n",
      "See the caveats in the documentation: https://pandas.pydata.org/pandas-docs/stable/user_guide/indexing.html#returning-a-view-versus-a-copy\n",
      "  df_filtered[\"previous_day_admission_influenza_confirmed\"] = df_filtered[\n",
      "/home/andrew/Documents/code/PF_forecast/filter_forecast/helpers.py:76: SettingWithCopyWarning: \n",
      "A value is trying to be set on a copy of a slice from a DataFrame\n",
      "\n",
      "See the caveats in the documentation: https://pandas.pydata.org/pandas-docs/stable/user_guide/indexing.html#returning-a-view-versus-a-copy\n",
      "  df_filtered.drop(\n"
     ]
    },
    {
     "name": "stdout",
     "output_type": "stream",
     "text": [
      "        date  previous_day_admission_influenza_confirmed\n",
      "0 2023-06-25                                         4.0\n",
      "1 2023-06-26                                         2.0\n",
      "2 2023-06-27                                         4.0\n",
      "3 2023-06-28                                         4.0\n",
      "4 2023-06-29                                         7.0\n",
      "(126,)\n"
     ]
    },
    {
     "name": "stderr",
     "output_type": "stream",
     "text": [
      "Running Particle Filter: 100%|\u001B[32m██████████\u001B[0m| 126/126 [00:49<00:00,  2.56it/s]\n"
     ]
    }
   ],
   "execution_count": 1
  },
  {
   "metadata": {
    "ExecuteTime": {
     "end_time": "2024-07-30T22:12:54.363935Z",
     "start_time": "2024-07-30T22:12:54.361755Z"
    }
   },
   "cell_type": "code",
   "source": "",
   "id": "83a35716aecba7d3",
   "outputs": [],
   "execution_count": 1
  }
 ],
 "metadata": {
  "kernelspec": {
   "display_name": "Python 3",
   "language": "python",
   "name": "python3"
  },
  "language_info": {
   "codemirror_mode": {
    "name": "ipython",
    "version": 2
   },
   "file_extension": ".py",
   "mimetype": "text/x-python",
   "name": "python",
   "nbconvert_exporter": "python",
   "pygments_lexer": "ipython2",
   "version": "2.7.6"
  }
 },
 "nbformat": 4,
 "nbformat_minor": 5
}
