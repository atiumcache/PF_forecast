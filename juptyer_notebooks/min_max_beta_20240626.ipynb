{
 "cells": [
  {
   "metadata": {},
   "cell_type": "markdown",
   "source": [
    "# Find Beta Min/Max\n",
    "\n",
    "We want to find the min and max beta values over the time period:\n",
    " [March 2022 - June 25, 2023]. \n",
    "\n",
    "We will implement an alternate version of the Particle Filter that estimates\n",
    " beta over this time period. \n",
    " \n",
    "We want to apply the new filter to all states to find a 'global' max and min.\n",
    "\n",
    "## Results\n",
    "After running the particle filter on all locations over the specified dates,\n",
    " we find:\n",
    "- `Beta Max: 0.3491`\n",
    "- `Beta Min: 0.0165`"
   ],
   "id": "2420a1491eec290b"
  },
  {
   "cell_type": "code",
   "id": "initial_id",
   "metadata": {
    "collapsed": true,
    "ExecuteTime": {
     "end_time": "2024-06-26T21:43:37.617507Z",
     "start_time": "2024-06-26T21:43:35.561246Z"
    }
   },
   "source": [
    "import os\n",
    "\n",
    "import pandas as pd\n",
    "\n",
    "from filter_forecast.algo_init import initialize_algo\n",
    "from filter_forecast.state import State\n",
    "from filter_forecast.helpers import get_beta_min_max_data\n",
    "from forecast_all_states import generate_location_mappings\n",
    "\n",
    "from multiprocessing import Pool\n",
    "\n",
    "import logging"
   ],
   "outputs": [],
   "execution_count": 1
  },
  {
   "metadata": {
    "ExecuteTime": {
     "end_time": "2024-06-26T21:43:37.629425Z",
     "start_time": "2024-06-26T21:43:37.620992Z"
    }
   },
   "cell_type": "code",
   "source": [
    "logger = logging.getLogger(__name__)\n",
    "\n",
    "\n",
    "def run_particle_filter_on_location(state_code: str) -> None:\n",
    "\n",
    "    state = State(state_code)\n",
    "\n",
    "    filtered_state_data = get_beta_min_max_data(state.hosp_data)\n",
    "\n",
    "    # Determine number of days for PF to forecast, based on length of data.\n",
    "    time_steps = len(filtered_state_data)\n",
    "\n",
    "    # Run the particle filter.\n",
    "    algo = initialize_algo(state.population, state_code)\n",
    "    algo.run(filtered_state_data, time_steps)\n",
    "    logger.info(\"Finished running particle filter on location {}\".format(state_code))"
   ],
   "id": "d0691ffef2ada696",
   "outputs": [],
   "execution_count": 2
  },
  {
   "metadata": {
    "ExecuteTime": {
     "end_time": "2024-06-26T21:43:37.649200Z",
     "start_time": "2024-06-26T21:43:37.632044Z"
    }
   },
   "cell_type": "code",
   "source": [
    "def run_pf_on_all_locations():\n",
    "    location_code_to_abbr, locations = generate_location_mappings(\n",
    "        \"./datasets/locations.csv\"\n",
    "    )\n",
    "\n",
    "    cpu_count = os.cpu_count()\n",
    "    with Pool(cpu_count) as pool:\n",
    "        locations = [location_code for location_code in locations[\"location\"].unique()]\n",
    "        pool.map(run_particle_filter_on_location, locations)"
   ],
   "id": "6e98943d1476e349",
   "outputs": [],
   "execution_count": 3
  },
  {
   "metadata": {
    "ExecuteTime": {
     "end_time": "2024-06-26T21:53:40.682456Z",
     "start_time": "2024-06-26T21:43:37.652866Z"
    }
   },
   "cell_type": "code",
   "source": [
    "%%capture pf_output\n",
    "run_pf_on_all_locations()"
   ],
   "id": "b048cf6c20aae479",
   "outputs": [],
   "execution_count": 4
  },
  {
   "metadata": {},
   "cell_type": "code",
   "outputs": [],
   "execution_count": null,
   "source": [
    "import numpy as np\n",
    "\n",
    "# Directory where the files are stored\n",
    "directory = \"./datasets/pf_results/\"\n",
    "\n",
    "# Initialize an empty list to store the beta data\n",
    "all_betas = []\n",
    "\n",
    "# Loop through all files in the directory\n",
    "for filename in os.listdir(directory):\n",
    "    # Check if 'average' is in the filename\n",
    "    if \"average\" in filename:\n",
    "        # Read the CSV file, ignoring the header\n",
    "        file_path = os.path.join(directory, filename)\n",
    "        df = pd.read_csv(file_path, header=0)\n",
    "        # Append the column data to the list\n",
    "        all_betas.extend(df.iloc[:, 1].values)\n",
    "\n",
    "column_data_array = np.array(all_betas)\n",
    "\n",
    "column_data_array"
   ],
   "id": "466c58ba50c890f4"
  },
  {
   "metadata": {},
   "cell_type": "markdown",
   "source": "Verifying that I have the correct amount of data.",
   "id": "246b1b3b95772026"
  },
  {
   "metadata": {
    "ExecuteTime": {
     "end_time": "2024-06-26T21:57:49.962077Z",
     "start_time": "2024-06-26T21:57:49.956642Z"
    }
   },
   "cell_type": "code",
   "source": [
    "# Total number of data points, divided by 52 locations.\n",
    "len(column_data_array) / 52"
   ],
   "id": "80d0cab3d5176437",
   "outputs": [
    {
     "data": {
      "text/plain": [
       "510.0"
      ]
     },
     "execution_count": 12,
     "metadata": {},
     "output_type": "execute_result"
    }
   ],
   "execution_count": 12
  },
  {
   "metadata": {
    "ExecuteTime": {
     "end_time": "2024-06-26T22:00:00.830647Z",
     "start_time": "2024-06-26T22:00:00.822829Z"
    }
   },
   "cell_type": "code",
   "source": [
    "# Length of a single dataframe.\n",
    "df = pd.read_csv(\"./datasets/pf_results/01_average_beta.csv\")\n",
    "len(df)"
   ],
   "id": "8b2a37bc72fc028f",
   "outputs": [
    {
     "data": {
      "text/plain": [
       "510"
      ]
     },
     "execution_count": 17,
     "metadata": {},
     "output_type": "execute_result"
    }
   ],
   "execution_count": 17
  },
  {
   "metadata": {
    "ExecuteTime": {
     "end_time": "2024-06-26T21:58:16.628099Z",
     "start_time": "2024-06-26T21:58:16.617601Z"
    }
   },
   "cell_type": "code",
   "source": [
    "beta_max = np.max(column_data_array)\n",
    "print(\"Beta Max: {}\".format(beta_max))"
   ],
   "id": "d4eccc031f77c146",
   "outputs": [
    {
     "name": "stdout",
     "output_type": "stream",
     "text": [
      "Beta Max: 0.349141849603896\n"
     ]
    }
   ],
   "execution_count": 14
  },
  {
   "metadata": {
    "ExecuteTime": {
     "end_time": "2024-06-26T21:58:46.885643Z",
     "start_time": "2024-06-26T21:58:46.880785Z"
    }
   },
   "cell_type": "code",
   "source": [
    "beta_min = np.min(column_data_array)\n",
    "print(\"Beta Min: {}\".format(beta_min))"
   ],
   "id": "b66869cbc41183ae",
   "outputs": [
    {
     "name": "stdout",
     "output_type": "stream",
     "text": [
      "Beta Min: 0.0165792956903883\n"
     ]
    }
   ],
   "execution_count": 16
  }
 ],
 "metadata": {
  "kernelspec": {
   "display_name": "Python 3",
   "language": "python",
   "name": "python3"
  },
  "language_info": {
   "codemirror_mode": {
    "name": "ipython",
    "version": 2
   },
   "file_extension": ".py",
   "mimetype": "text/x-python",
   "name": "python",
   "nbconvert_exporter": "python",
   "pygments_lexer": "ipython2",
   "version": "2.7.6"
  }
 },
 "nbformat": 4,
 "nbformat_minor": 5
}
