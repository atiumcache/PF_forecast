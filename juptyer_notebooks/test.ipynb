{
 "cells": [
  {
   "metadata": {},
   "cell_type": "code",
   "outputs": [],
   "execution_count": null,
   "source": "",
   "id": "140d8519ddcd8e99"
  },
  {
   "metadata": {
    "ExecuteTime": {
     "end_time": "2024-08-01T21:52:38.491230Z",
     "start_time": "2024-08-01T21:52:38.481300Z"
    }
   },
   "cell_type": "code",
   "source": [
    "from src.particle_filter.global_settings import GlobalSettings\n",
    "import paths\n",
    "import toml\n",
    "import os\n",
    "\n",
    "def load_config():\n",
    "    config_path = os.path.join(paths.PF_DIR, 'config.toml')\n",
    "    return toml.load(config_path)\n",
    "\n",
    "config = load_config()\n",
    "\n",
    "global_settings = GlobalSettings(\n",
    "        num_particles=config['filter_params']['num_particles'],\n",
    "        population=7,\n",
    "        location_code='04',\n",
    "        final_date='2024-07-22',\n",
    "        runtime=50,\n",
    "        beta_prior=tuple(config['model_params']['beta_prior'])\n",
    "    )"
   ],
   "id": "51fb732ebb259fff",
   "outputs": [],
   "execution_count": 4
  },
  {
   "metadata": {
    "ExecuteTime": {
     "end_time": "2024-08-01T21:52:44.255251Z",
     "start_time": "2024-08-01T21:52:44.239144Z"
    }
   },
   "cell_type": "code",
   "source": "global_settings.beta_prior",
   "id": "e2583609df2f4bc6",
   "outputs": [
    {
     "data": {
      "text/plain": [
       "(0.1, 0.3)"
      ]
     },
     "execution_count": 5,
     "metadata": {},
     "output_type": "execute_result"
    }
   ],
   "execution_count": 5
  },
  {
   "metadata": {},
   "cell_type": "code",
   "outputs": [],
   "execution_count": null,
   "source": "",
   "id": "2c9a761201bfef29"
  }
 ],
 "metadata": {
  "kernelspec": {
   "display_name": "Python 3",
   "language": "python",
   "name": "python3"
  },
  "language_info": {
   "codemirror_mode": {
    "name": "ipython",
    "version": 2
   },
   "file_extension": ".py",
   "mimetype": "text/x-python",
   "name": "python",
   "nbconvert_exporter": "python",
   "pygments_lexer": "ipython2",
   "version": "2.7.6"
  }
 },
 "nbformat": 4,
 "nbformat_minor": 5
}
